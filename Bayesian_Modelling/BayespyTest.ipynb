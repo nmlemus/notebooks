{
 "cells": [
  {
   "cell_type": "code",
   "execution_count": 1,
   "metadata": {
    "collapsed": false
   },
   "outputs": [],
   "source": [
    "import numpy as np"
   ]
  },
  {
   "cell_type": "code",
   "execution_count": 2,
   "metadata": {
    "collapsed": true
   },
   "outputs": [],
   "source": [
    "data = np.random.normal(5, 10, size=(10,))"
   ]
  },
  {
   "cell_type": "code",
   "execution_count": 3,
   "metadata": {
    "collapsed": false
   },
   "outputs": [],
   "source": [
    "from bayespy.nodes import GaussianARD, Gamma"
   ]
  },
  {
   "cell_type": "code",
   "execution_count": 13,
   "metadata": {
    "collapsed": true
   },
   "outputs": [],
   "source": [
    "mu = GaussianARD(0, 1e-6)\n",
    "tau = Gamma(1e-6, 1e-6)\n",
    "y = GaussianARD(mu, tau, plates=(10,))"
   ]
  },
  {
   "cell_type": "code",
   "execution_count": 16,
   "metadata": {
    "collapsed": false
   },
   "outputs": [],
   "source": [
    "y.observe(data)"
   ]
  },
  {
   "cell_type": "code",
   "execution_count": 17,
   "metadata": {
    "collapsed": false
   },
   "outputs": [],
   "source": [
    "from bayespy.inference import VB\n",
    "Q = VB(mu, tau, y)"
   ]
  },
  {
   "cell_type": "code",
   "execution_count": 18,
   "metadata": {
    "collapsed": false
   },
   "outputs": [
    {
     "name": "stdout",
     "output_type": "stream",
     "text": [
      "Iteration 1: loglike=-5.551114e+01 (0.002 seconds)\n",
      "Iteration 2: loglike=-5.397168e+01 (0.002 seconds)\n",
      "Iteration 3: loglike=-5.396936e+01 (0.001 seconds)\n",
      "Iteration 4: loglike=-5.396934e+01 (0.001 seconds)\n",
      "Converged at iteration 4.\n"
     ]
    }
   ],
   "source": [
    "Q.update(repeat=20)"
   ]
  },
  {
   "cell_type": "code",
   "execution_count": 37,
   "metadata": {
    "collapsed": false
   },
   "outputs": [
    {
     "data": {
      "image/png": "[encoded data removed]",
      "text/plain": [
       "<matplotlib.figure.Figure at 0x111837e80>"
      ]
     },
     "metadata": {},
     "output_type": "display_data"
    }
   ],
   "source": [
    "import matplotlib.pyplot as plt\n",
    "import scipy.stats as stats\n",
    "\n",
    "%matplotlib inline\n",
    "plt.style.use('bmh')\n",
    "colors = ['#348ABD', '#A60628', '#7A68A6', '#467821', '#D55E00', \n",
    "          '#CC79A7', '#56B4E9', '#009E73', '#F0E442', '#0072B2']\n",
    "\n",
    "fig = plt.figure(figsize=(11,3))\n",
    "ax = fig.add_subplot(111)\n",
    "x_lim = 60\n",
    "mu = [5, 20, 40]\n",
    "for i in np.arange(x_lim):\n",
    "    plt.bar(i, stats.poisson.pmf(mu[0], i), color=colors[3])\n",
    "    plt.bar(i, stats.poisson.pmf(mu[1], i), color=colors[4])\n",
    "    plt.bar(i, stats.poisson.pmf(mu[2], i), color=colors[5])\n",
    "    \n",
    "_ = ax.set_xlim(0, x_lim)\n",
    "_ = ax.set_ylim(0, 0.2)\n",
    "_ = ax.set_ylabel('Probability mass')\n",
    "_ = ax.set_title('Poisson distribution')\n",
    "_ = plt.legend(['$\\mu$ = %s' % mu[0], '$\\mu$ = %s' % mu[1], '$\\mu$ = %s' % mu[2]])"
   ]
  },
  {
   "cell_type": "code",
   "execution_count": 6,
   "metadata": {
    "collapsed": true
   },
   "outputs": [],
   "source": [
    "import bayespy.plot as bpplt"
   ]
  },
  {
   "cell_type": "code",
   "execution_count": null,
   "metadata": {
    "collapsed": false
   },
   "outputs": [
    {
     "name": "stderr",
     "output_type": "stream",
     "text": [
      "/Users/rio/anaconda/lib/python3.5/site-packages/matplotlib/tight_layout.py:222: UserWarning: tight_layout : falling back to Agg renderer\n",
      "  warnings.warn(\"tight_layout : falling back to Agg renderer\")\n"
     ]
    }
   ],
   "source": [
    "bpplt.pyplot.subplot(2, 1, 1)\n",
    "bpplt.pdf(mu, np.linspace(-10, 20, num=100), color='k', name=r'\\mu')\n",
    "bpplt.pyplot.subplot(2, 1, 2)\n",
    "bpplt.pdf(tau, np.linspace(1e-6, 0.08, num=100), color='k', name=r'\\tau')\n",
    "bpplt.pyplot.tight_layout()\n",
    "bpplt.pyplot.show()"
   ]
  },
  {
   "cell_type": "code",
   "execution_count": 39,
   "metadata": {
    "collapsed": false
   },
   "outputs": [],
   "source": [
    "import json\n",
    "import matplotlib.pyplot as plt\n",
    "import numpy as np\n",
    "import pandas as pd\n",
    "import seaborn.apionly as sns\n",
    "\n",
    "from datetime import datetime\n",
    "\n",
    "%matplotlib inline\n",
    "plt.style.use('bmh')\n",
    "colors = ['#348ABD', '#A60628', '#7A68A6', '#467821', '#D55E00', \n",
    "          '#CC79A7', '#56B4E9', '#009E73', '#F0E442', '#0072B2']"
   ]
  }
 ],
 "metadata": {
  "anaconda-cloud": {},
  "kernelspec": {
   "display_name": "Python [Root]",
   "language": "python",
   "name": "Python [Root]"
  },
  "language_info": {
   "codemirror_mode": {
    "name": "ipython",
    "version": 3
   },
   "file_extension": ".py",
   "mimetype": "text/x-python",
   "name": "python",
   "nbconvert_exporter": "python",
   "pygments_lexer": "ipython3",
   "version": "3.5.2"
  }
 },
 "nbformat": 4,
 "nbformat_minor": 0
}
